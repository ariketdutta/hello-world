{
  "nbformat": 4,
  "nbformat_minor": 0,
  "metadata": {
    "colab": {
      "name": "M_Tech_Assignment_1.ipynb",
      "version": "0.3.2",
      "provenance": [],
      "collapsed_sections": [],
      "include_colab_link": true
    },
    "kernelspec": {
      "name": "python3",
      "display_name": "Python 3"
    }
  },
  "cells": [
    {
      "cell_type": "markdown",
      "metadata": {
        "id": "view-in-github",
        "colab_type": "text"
      },
      "source": [
        "<a href=\"https://colab.research.google.com/github/ariketdutta/hello-world/blob/master/M_Tech_Assignment_1.ipynb\" target=\"_parent\"><img src=\"https://colab.research.google.com/assets/colab-badge.svg\" alt=\"Open In Colab\"/></a>"
      ]
    },
    {
      "cell_type": "code",
      "metadata": {
        "id": "PRwZ4b1uOf-8",
        "colab_type": "code",
        "colab": {}
      },
      "source": [
        "a,b=input('Enter Two Numbers:').split(',')\n",
        "a,b=int(a),int(b)\n",
        "print('Sum of two numbers is:{}'.format(a+b))"
      ],
      "execution_count": 0,
      "outputs": []
    },
    {
      "cell_type": "code",
      "metadata": {
        "id": "_-4a_iCzTbXj",
        "colab_type": "code",
        "colab": {}
      },
      "source": [
        "a,b=input('Enter Height n Length of a rectangle (in meters):').split(',')\n",
        "a,b=float(a),float(b)\n",
        "print('Area of rectangle:{0} sq mt \\t Perimeter of Rectangle:{1} mt'.format(a*b,2*(a+b)))"
      ],
      "execution_count": 0,
      "outputs": []
    },
    {
      "cell_type": "code",
      "metadata": {
        "id": "Phxfb5V7ThKk",
        "colab_type": "code",
        "colab": {}
      },
      "source": [
        "a,b,c=input('Enter three numbers:').split(',')\n",
        "a,b,c=float(a),float(b),float(c)\n",
        "print('Sum of numbers is: {0} \\t Average of numbers is:{1}'.format(a+b+c,(a+b+c)/3))"
      ],
      "execution_count": 0,
      "outputs": []
    },
    {
      "cell_type": "code",
      "metadata": {
        "id": "n08vu_73TnAl",
        "colab_type": "code",
        "colab": {}
      },
      "source": [
        "a,b=input('Enter Two Numbers:').split(',')\n",
        "a,b=int(a),int(b)\n",
        "print('Before Swapping \\n a={}\\t b={}'.format(a,b))\n",
        "a,b=b,a\n",
        "print('After Swapping \\n a={}\\t b={}'.format(a,b))"
      ],
      "execution_count": 0,
      "outputs": []
    },
    {
      "cell_type": "code",
      "metadata": {
        "id": "Qo0sJtBTT0Vb",
        "colab_type": "code",
        "colab": {}
      },
      "source": [
        "a=float(input('Enter Temperature in Celcius:'))\n",
        "print('Temperature in farenheit is:{}F'.format((a*9/5)+32))"
      ],
      "execution_count": 0,
      "outputs": []
    }
  ]
}